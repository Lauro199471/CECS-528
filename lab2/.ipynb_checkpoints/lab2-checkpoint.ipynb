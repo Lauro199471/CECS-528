{
 "cells": [
  {
   "cell_type": "code",
   "execution_count": 1,
   "metadata": {},
   "outputs": [],
   "source": [
    "import numpy as np\n",
    "import matplotlib.pyplot as plt  \n",
    "import math "
   ]
  },
  {
   "cell_type": "code",
   "execution_count": 2,
   "metadata": {},
   "outputs": [],
   "source": [
    "x = np.arange(.001,5,.01);"
   ]
  },
  {
   "cell_type": "code",
   "execution_count": 3,
   "metadata": {},
   "outputs": [
    {
     "ename": "NameError",
     "evalue": "name 'x1' is not defined",
     "output_type": "error",
     "traceback": [
      "\u001b[1;31m---------------------------------------------------------------------------\u001b[0m",
      "\u001b[1;31mNameError\u001b[0m                                 Traceback (most recent call last)",
      "\u001b[1;32m<ipython-input-3-fcd5cbba1eaf>\u001b[0m in \u001b[0;36m<module>\u001b[1;34m()\u001b[0m\n\u001b[1;32m----> 1\u001b[1;33m \u001b[0mfx\u001b[0m \u001b[1;33m=\u001b[0m \u001b[1;33m(\u001b[0m\u001b[0mx1\u001b[0m\u001b[1;33m**\u001b[0m\u001b[1;36m2\u001b[0m\u001b[1;33m)\u001b[0m \u001b[1;33m+\u001b[0m \u001b[1;36m1\u001b[0m\u001b[1;33m;\u001b[0m\u001b[1;33m\u001b[0m\u001b[0m\n\u001b[0m\u001b[0;32m      2\u001b[0m \u001b[1;33m\u001b[0m\u001b[0m\n\u001b[0;32m      3\u001b[0m \u001b[0mplt\u001b[0m\u001b[1;33m.\u001b[0m\u001b[0mplot\u001b[0m\u001b[1;33m(\u001b[0m\u001b[0mx1\u001b[0m\u001b[1;33m,\u001b[0m\u001b[0mfx\u001b[0m\u001b[1;33m,\u001b[0m\u001b[1;34m\"green\"\u001b[0m\u001b[1;33m)\u001b[0m\u001b[1;33m;\u001b[0m\u001b[1;33m\u001b[0m\u001b[0m\n\u001b[0;32m      4\u001b[0m \u001b[0mplt\u001b[0m\u001b[1;33m.\u001b[0m\u001b[0maxhline\u001b[0m\u001b[1;33m(\u001b[0m\u001b[0my\u001b[0m\u001b[1;33m=\u001b[0m\u001b[1;36m0\u001b[0m\u001b[1;33m,\u001b[0m \u001b[0mcolor\u001b[0m\u001b[1;33m=\u001b[0m\u001b[1;34m'black'\u001b[0m\u001b[1;33m,\u001b[0m \u001b[0mlinestyle\u001b[0m\u001b[1;33m=\u001b[0m\u001b[1;34m'-'\u001b[0m \u001b[1;33m)\u001b[0m\u001b[1;33m\u001b[0m\u001b[0m\n\u001b[0;32m      5\u001b[0m \u001b[0mplt\u001b[0m\u001b[1;33m.\u001b[0m\u001b[0maxvline\u001b[0m\u001b[1;33m(\u001b[0m\u001b[0mx\u001b[0m\u001b[1;33m=\u001b[0m\u001b[1;36m0\u001b[0m\u001b[1;33m,\u001b[0m \u001b[0mcolor\u001b[0m\u001b[1;33m=\u001b[0m\u001b[1;34m'black'\u001b[0m\u001b[1;33m,\u001b[0m \u001b[0mlinestyle\u001b[0m\u001b[1;33m=\u001b[0m\u001b[1;34m'-'\u001b[0m\u001b[1;33m)\u001b[0m\u001b[1;33m\u001b[0m\u001b[0m\n",
      "\u001b[1;31mNameError\u001b[0m: name 'x1' is not defined"
     ]
    }
   ],
   "source": [
    "fx = (x**2) + 1;\n",
    "\n",
    "plt.plot(x,fx,\"green\");\n",
    "plt.axhline(y=0, color='black', linestyle='-' )\n",
    "plt.axvline(x=0, color='black', linestyle='-')\n",
    "plt.grid();\n",
    "plt.title('f(x) = (x^2) + 1');\n",
    "plt.savefig('f(x)');"
   ]
  },
  {
   "cell_type": "code",
   "execution_count": null,
   "metadata": {},
   "outputs": [],
   "source": []
  },
  {
   "cell_type": "code",
   "execution_count": null,
   "metadata": {},
   "outputs": [],
   "source": [
    "gx = x + 8;\n",
    "\n",
    "plt.plot(x,gx,\"blue\");\n",
    "plt.axhline(y=0, color='black', linestyle='-')\n",
    "plt.axvline(x=0, color='black', linestyle='-')\n",
    "plt.grid();\n",
    "plt.title('g(x) = x + 8');\n",
    "plt.savefig('g(x)');"
   ]
  },
  {
   "cell_type": "code",
   "execution_count": null,
   "metadata": {},
   "outputs": [],
   "source": [
    "plt.plot(x,fx,'green',x,gx,\"blue\");\n",
    "plt.axhline(y=0, color='black', linestyle='-')\n",
    "plt.axvline(x=0, color='black', linestyle='-')\n",
    "plt.grid();\n",
    "\n",
    "plt.title('Show f(x)(green) + g(x)(blue) = Θ(max(f(x),g(x)))');\n",
    "plt.savefig('f(x)&g(x)');"
   ]
  },
  {
   "cell_type": "code",
   "execution_count": null,
   "metadata": {},
   "outputs": [],
   "source": []
  },
  {
   "cell_type": "code",
   "execution_count": null,
   "metadata": {},
   "outputs": [],
   "source": [
    "maxList = [];\n",
    "for i in range(0 , x.size):\n",
    "    if fx[i] > gx[i]:\n",
    "        maxList.append(fx[i]);\n",
    "    \n",
    "    elif gx[i] > fx[i]:\n",
    "        maxList.append(gx[i])\n",
    "    \n",
    "    elif gx[i] == fx[i]:\n",
    "        maxList.append(gx[i])\n",
    "\n",
    "plt.plot(x,maxList,\"red\" , linewidth = 8);\n",
    "plt.plot(x,fx,'green',x,gx,\"blue\");\n",
    "plt.axhline(y=0, color='black', linestyle='-')\n",
    "plt.axvline(x=0, color='black', linestyle='-')\n",
    "plt.grid();\n",
    "plt.title('f(x)(green) + g(x)(blue) = Θ(max(f(x),g(x))(red)), where C = 1 , n>=0');\n",
    "plt.savefig('f(x)Cg(x)1');\n",
    "plt.show();\n",
    "plt.close();"
   ]
  },
  {
   "cell_type": "code",
   "execution_count": null,
   "metadata": {},
   "outputs": [],
   "source": [
    "c =  1;\n",
    "n0 = 0;\n",
    "\n",
    "plt.plot(x,np.multiply(maxList,c),\"red\");\n",
    "plt.plot(x,fx+gx,'purple');\n",
    "\n",
    "plt.axhline(y=0, color='black', linestyle='-')\n",
    "plt.axvline(x=0, color='black', linestyle='-')\n",
    "plt.grid();\n",
    "plt.title('Big Ω: (f(x) + g(x))(purple) >= C(max(f(x),g(x))(red)), where C = 1 , n>=0');\n",
    "plt.savefig('f(x)Cg(x)2');\n",
    "plt.show();\n",
    "plt.close();"
   ]
  },
  {
   "cell_type": "code",
   "execution_count": null,
   "metadata": {},
   "outputs": [],
   "source": [
    "c =  2;\n",
    "n0 = 0;\n",
    "\n",
    "plt.plot(x,np.multiply(maxList,c),\"red\");\n",
    "plt.plot(x,fx+gx,'purple');\n",
    "\n",
    "plt.axhline(y=0, color='black', linestyle='-')\n",
    "plt.axvline(x=0, color='black', linestyle='-')\n",
    "plt.grid();\n",
    "plt.title('Big O: (f(x) + g(x))(purple) <= C(max(f(x),g(x))(red)), where C = 2 , n>=0');\n",
    "plt.savefig('f(x)Cg(x)3');\n",
    "plt.show();\n",
    "plt.close();"
   ]
  },
  {
   "cell_type": "code",
   "execution_count": null,
   "metadata": {},
   "outputs": [],
   "source": []
  }
 ],
 "metadata": {
  "kernelspec": {
   "display_name": "Python 3",
   "language": "python",
   "name": "python3"
  },
  "language_info": {
   "codemirror_mode": {
    "name": "ipython",
    "version": 3
   },
   "file_extension": ".py",
   "mimetype": "text/x-python",
   "name": "python",
   "nbconvert_exporter": "python",
   "pygments_lexer": "ipython3",
   "version": "3.5.6"
  }
 },
 "nbformat": 4,
 "nbformat_minor": 2
}
